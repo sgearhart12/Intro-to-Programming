{
 "cells": [
  {
   "cell_type": "code",
   "execution_count": 2,
   "id": "fc2360e9-8317-4157-82f8-cb027c6db6e7",
   "metadata": {},
   "outputs": [
    {
     "name": "stdout",
     "output_type": "stream",
     "text": [
      "Hello World\n"
     ]
    }
   ],
   "source": [
    "print(\"Hello World\")"
   ]
  },
  {
   "cell_type": "code",
   "execution_count": 1,
   "id": "e647fbc4-ddc7-4f8b-96a1-c919fc66cbb4",
   "metadata": {},
   "outputs": [
    {
     "name": "stdout",
     "output_type": "stream",
     "text": [
      "I, Sera Gearhart, have successfully installed and run a python program on my computer!\n"
     ]
    }
   ],
   "source": [
    "output = \"I, Sera Gearhart, have successfully installed and run a python program on my computer!\"\n",
    "\n",
    "print(output)"
   ]
  }
 ],
 "metadata": {
  "kernelspec": {
   "display_name": "Python 3",
   "language": "python",
   "name": "python3"
  },
  "language_info": {
   "codemirror_mode": {
    "name": "ipython",
    "version": 3
   },
   "file_extension": ".py",
   "mimetype": "text/x-python",
   "name": "python",
   "nbconvert_exporter": "python",
   "pygments_lexer": "ipython3",
   "version": "3.13.5"
  }
 },
 "nbformat": 4,
 "nbformat_minor": 5
}
