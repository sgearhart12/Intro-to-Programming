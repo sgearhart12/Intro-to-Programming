{
 "cells": [
  {
   "cell_type": "code",
   "execution_count": 12,
   "id": "775ff503",
   "metadata": {},
   "outputs": [
    {
     "name": "stdout",
     "output_type": "stream",
     "text": [
      "Quiz: Advanced Function and Logic, Question 3 & 4\n"
     ]
    }
   ],
   "source": [
    "print(\"Quiz: Advanced Function and Logic, Question 3 & 4\")\n",
    "\n"
   ]
  },
  {
   "cell_type": "code",
   "execution_count": 13,
   "id": "4014df46",
   "metadata": {},
   "outputs": [
    {
     "name": "stdout",
     "output_type": "stream",
     "text": [
      "Question 3\n",
      "Is it possible in python to overwrite built-in functions? i.e. def print(x): // return x + 1\n",
      "Typical print function returns 1\n",
      "Hello world\n"
     ]
    }
   ],
   "source": [
    "print(\"Question 3\")\n",
    "print(\"Is it possible in python to overwrite built-in functions? i.e. def print(x): // return x + 1\")\n",
    "#let's try it!\n",
    "#we know what the print function usually does if we have a variable set to an integer, we can print the integer. \n",
    "x=1\n",
    "print(\"Typical print function returns\", x)\n",
    "#or we can print a string\n",
    "print(\"Hello world\")\n",
    "\n"
   ]
  },
  {
   "cell_type": "code",
   "execution_count": 14,
   "id": "bd9261eb",
   "metadata": {},
   "outputs": [
    {
     "data": {
      "text/plain": [
       "2"
      ]
     },
     "execution_count": 14,
     "metadata": {},
     "output_type": "execute_result"
    }
   ],
   "source": [
    "#can we overwrite print into a new function?\n",
    "x=1\n",
    "def print(x):\n",
    "    return x+1\n",
    "\n",
    "print(x)\n",
    "#we would expect this to print 1, but now print is a function that will return 2\n"
   ]
  },
  {
   "cell_type": "code",
   "execution_count": 15,
   "id": "0e6ef59c",
   "metadata": {},
   "outputs": [
    {
     "ename": "TypeError",
     "evalue": "can only concatenate str (not \"int\") to str",
     "output_type": "error",
     "traceback": [
      "\u001b[31m---------------------------------------------------------------------------\u001b[39m",
      "\u001b[31mTypeError\u001b[39m                                 Traceback (most recent call last)",
      "\u001b[36mCell\u001b[39m\u001b[36m \u001b[39m\u001b[32mIn[15]\u001b[39m\u001b[32m, line 2\u001b[39m\n\u001b[32m      1\u001b[39m \u001b[38;5;66;03m#we can also check this by now trying to print a string\u001b[39;00m\n\u001b[32m----> \u001b[39m\u001b[32m2\u001b[39m \u001b[38;5;28;43mprint\u001b[39;49m\u001b[43m(\u001b[49m\u001b[33;43m\"\u001b[39;49m\u001b[33;43mHello world\u001b[39;49m\u001b[33;43m\"\u001b[39;49m\u001b[43m)\u001b[49m\n\u001b[32m      4\u001b[39m \u001b[38;5;66;03m#we get an error since this function is now trying to return \"hello world\" +1 which is a typeerror\u001b[39;00m\n\u001b[32m      5\u001b[39m \u001b[38;5;66;03m#in summarry, you can do this but you probably should not! \u001b[39;00m\n\u001b[32m      6\u001b[39m \u001b[38;5;66;03m#reset kernal to run code without overwriting print function for remainder of presentation\u001b[39;00m\n",
      "\u001b[36mCell\u001b[39m\u001b[36m \u001b[39m\u001b[32mIn[14]\u001b[39m\u001b[32m, line 4\u001b[39m, in \u001b[36mprint\u001b[39m\u001b[34m(x)\u001b[39m\n\u001b[32m      3\u001b[39m \u001b[38;5;28;01mdef\u001b[39;00m\u001b[38;5;250m \u001b[39m\u001b[34mprint\u001b[39m(x):\n\u001b[32m----> \u001b[39m\u001b[32m4\u001b[39m     \u001b[38;5;28;01mreturn\u001b[39;00m \u001b[43mx\u001b[49m\u001b[43m+\u001b[49m\u001b[32;43m1\u001b[39;49m\n",
      "\u001b[31mTypeError\u001b[39m: can only concatenate str (not \"int\") to str"
     ]
    }
   ],
   "source": [
    "#we can also check this by now trying to print a string\n",
    "print(\"Hello world\")\n",
    "\n",
    "#we get an error since this function is now trying to return \"hello world\" +1 which is a typeerror\n",
    "#in summarry, you can do this but you probably should not! \n",
    "#reset kernal to run code without overwriting print function for remainder of presentation"
   ]
  },
  {
   "cell_type": "code",
   "execution_count": null,
   "id": "ae1fde4b",
   "metadata": {},
   "outputs": [
    {
     "name": "stdout",
     "output_type": "stream",
     "text": [
      "Question 4\n",
      "Recursive functions v iterated functions run in different directions. Match the implementation with the direction\n",
      "[1]\n",
      "[1, 2]\n",
      "[1, 2, [3, 4, [5, 6]]]\n",
      "[1, 2, [3, 4, [5, 6]]]\n"
     ]
    }
   ],
   "source": [
    "print(\"Question 4\")\n",
    "print(\"Recursive functions v iterated functions run in different directions. Match the implementation with the direction\")\n"
   ]
  },
  {
   "cell_type": "code",
   "execution_count": null,
   "id": "ebdc1b9c",
   "metadata": {},
   "outputs": [
    {
     "name": "stdout",
     "output_type": "stream",
     "text": [
      "[1]\n",
      "[1, 2]\n",
      "[1, 2, [3, 4, [5, 6]]]\n"
     ]
    },
    {
     "ename": "TypeError",
     "evalue": "'list' object is not callable",
     "output_type": "error",
     "traceback": [
      "\u001b[31m---------------------------------------------------------------------------\u001b[39m",
      "\u001b[31mTypeError\u001b[39m                                 Traceback (most recent call last)",
      "\u001b[36mCell\u001b[39m\u001b[36m \u001b[39m\u001b[32mIn[2]\u001b[39m\u001b[32m, line 10\u001b[39m\n\u001b[32m      8\u001b[39m         \u001b[38;5;28mprint\u001b[39m(iterativelist)\n\u001b[32m      9\u001b[39m     \u001b[38;5;28;01mreturn\u001b[39;00m iterativelist(mylist)\n\u001b[32m---> \u001b[39m\u001b[32m10\u001b[39m \u001b[38;5;28mprint\u001b[39m(\u001b[43miterative\u001b[49m\u001b[43m(\u001b[49m\u001b[43mmylist\u001b[49m\u001b[43m)\u001b[49m)\n",
      "\u001b[36mCell\u001b[39m\u001b[36m \u001b[39m\u001b[32mIn[2]\u001b[39m\u001b[32m, line 9\u001b[39m, in \u001b[36miterative\u001b[39m\u001b[34m(mylist)\u001b[39m\n\u001b[32m      7\u001b[39m     iterativelist.append(mylist[x])\n\u001b[32m      8\u001b[39m     \u001b[38;5;28mprint\u001b[39m(iterativelist)\n\u001b[32m----> \u001b[39m\u001b[32m9\u001b[39m \u001b[38;5;28;01mreturn\u001b[39;00m \u001b[43miterativelist\u001b[49m\u001b[43m(\u001b[49m\u001b[43mmylist\u001b[49m\u001b[43m)\u001b[49m\n",
      "\u001b[31mTypeError\u001b[39m: 'list' object is not callable"
     ]
    }
   ],
   "source": [
    "mylist=[1, 2, [3, 4, [5, 6]]]\n",
    "\n",
    "#iterativefunction\n",
    "def iterative(mylist):\n",
    "    iterativelist=[]\n",
    "    for x in range(len(mylist)):\n",
    "        iterativelist.append(mylist[x])\n",
    "        print(iterativelist)\n",
    "    return iterativelist(mylist)\n",
    "print(iterative(mylist))\n",
    "    \n"
   ]
  },
  {
   "cell_type": "code",
   "execution_count": null,
   "id": "7d462c52",
   "metadata": {},
   "outputs": [
    {
     "name": "stdout",
     "output_type": "stream",
     "text": [
      "1\n",
      "2\n",
      "[3, 4, [5, 6]]\n",
      "[[3, 4, [5, 6]]]\n",
      "[2, [3, 4, [5, 6]]]\n",
      "[1, 2, [3, 4, [5, 6]]]\n",
      "[1, 2, [3, 4, [5, 6]]]\n"
     ]
    }
   ],
   "source": [
    "\n",
    "mylist=[1, 2, [3, 4, [5, 6]]]\n",
    "\n",
    "#recursivefunction\n",
    "def recursive(mylist):\n",
    "    #create an empty list\n",
    "    recursivelist=[]\n",
    "   \n",
    "\n",
    "print(recursive(mylist))\n"
   ]
  }
 ],
 "metadata": {
  "kernelspec": {
   "display_name": "Python 3",
   "language": "python",
   "name": "python3"
  },
  "language_info": {
   "codemirror_mode": {
    "name": "ipython",
    "version": 3
   },
   "file_extension": ".py",
   "mimetype": "text/x-python",
   "name": "python",
   "nbconvert_exporter": "python",
   "pygments_lexer": "ipython3",
   "version": "3.13.7"
  }
 },
 "nbformat": 4,
 "nbformat_minor": 5
}
