{
 "cells": [
  {
   "cell_type": "code",
   "execution_count": 14,
   "id": "bd277070",
   "metadata": {},
   "outputs": [
    {
     "name": "stdout",
     "output_type": "stream",
     "text": [
      "2\n"
     ]
    }
   ],
   "source": [
    "#Question 1\n",
    "#boolean true + boolean true - boolean false = ?\n",
    "b=True\n",
    "c=False\n",
    "print(b+b-c)"
   ]
  },
  {
   "cell_type": "code",
   "execution_count": 15,
   "id": "46053e95",
   "metadata": {},
   "outputs": [
    {
     "name": "stdout",
     "output_type": "stream",
     "text": [
      "1\n"
     ]
    }
   ],
   "source": [
    "#Question 2\n",
    "#logical tracker=true\n",
    "#logical tracker AND logical tracker\n",
    "#logical tracker OR (logical tracker - logical tracker)\n",
    "logicaltracker=True\n",
    "logicaltracker=logicaltracker&logicaltracker\n",
    "logicaltracker=logicaltracker|(logicaltracker-logicaltracker)\n",
    "print(logicaltracker)"
   ]
  },
  {
   "cell_type": "code",
   "execution_count": 22,
   "id": "1180849b",
   "metadata": {},
   "outputs": [
    {
     "name": "stdout",
     "output_type": "stream",
     "text": [
      " \n"
     ]
    }
   ],
   "source": [
    "#Question 5\n",
    "string = \"E. Coli\"\n",
    "print(string[2])"
   ]
  },
  {
   "cell_type": "code",
   "execution_count": 17,
   "id": "4a60928b",
   "metadata": {},
   "outputs": [
    {
     "name": "stdout",
     "output_type": "stream",
     "text": [
      "I love python\n"
     ]
    }
   ],
   "source": [
    "#Question 6\n",
    "#My string has a typo!\n",
    "#string[2] will not replace the letter\n",
    "#CoSee this code instead that will work\n",
    "string=\"I Bove python\"\n",
    "newstring=string.replace(\"B\",\"l\")\n",
    "print(newstring)"
   ]
  },
  {
   "cell_type": "code",
   "execution_count": 18,
   "id": "90ac840b",
   "metadata": {},
   "outputs": [
    {
     "name": "stdout",
     "output_type": "stream",
     "text": [
      "bananaapples\n",
      "9\n",
      "banana5\n"
     ]
    }
   ],
   "source": [
    "#Question 9\n",
    "#Explain how the \"+\" addition operation works differently with strings and integers.\n",
    "string=\"banana\"\n",
    "string2=\"apples\"\n",
    "int=5\n",
    "int2=4\n",
    "print(string+string2)\n",
    "\t\n",
    "#You cannot add a string and integer. This will error.\n",
    "# #print(string+int)\n",
    "\t\n",
    "#Add two integers\n",
    "print(int+int2)\n",
    "\t\n",
    "#Convert integer to string\n",
    "print(string+str(int))\n"
   ]
  },
  {
   "cell_type": "code",
   "execution_count": 19,
   "id": "bed5f76e",
   "metadata": {},
   "outputs": [
    {
     "name": "stdout",
     "output_type": "stream",
     "text": [
      "73\n"
     ]
    }
   ],
   "source": [
    "#Question 10\n",
    "#Type the output if the strings \"7\" and \"3\" are added.\n",
    "string1=str(7)\n",
    "string2=str(3)\n",
    "print(string1+string2)"
   ]
  }
 ],
 "metadata": {
  "kernelspec": {
   "display_name": "Python 3",
   "language": "python",
   "name": "python3"
  },
  "language_info": {
   "codemirror_mode": {
    "name": "ipython",
    "version": 3
   },
   "file_extension": ".py",
   "mimetype": "text/x-python",
   "name": "python",
   "nbconvert_exporter": "python",
   "pygments_lexer": "ipython3",
   "version": "3.13.7"
  }
 },
 "nbformat": 4,
 "nbformat_minor": 5
}
